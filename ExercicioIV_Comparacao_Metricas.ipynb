{
  "nbformat": 4,
  "nbformat_minor": 0,
  "metadata": {
    "colab": {
      "name": "ExercicioIV_Comparacao_Metricas.ipynb",
      "provenance": [],
      "collapsed_sections": [],
      "include_colab_link": true
    },
    "kernelspec": {
      "name": "python3",
      "display_name": "Python 3"
    }
  },
  "cells": [
    {
      "cell_type": "markdown",
      "metadata": {
        "id": "view-in-github",
        "colab_type": "text"
      },
      "source": [
        "<a href=\"https://colab.research.google.com/github/fiapteamrocket/modelos-ml/blob/master/ExercicioIV_Comparacao_Metricas.ipynb\" target=\"_parent\"><img src=\"https://colab.research.google.com/assets/colab-badge.svg\" alt=\"Open In Colab\"/></a>"
      ]
    },
    {
      "cell_type": "markdown",
      "metadata": {
        "id": "qGJhelAPu2uO",
        "colab_type": "text"
      },
      "source": [
        "# Demo II / Exercício IV - Métricas para Avaliação de Modelos\n",
        "\n",
        "Base diabetes - \n",
        "\n",
        "Ref. https://scikit-learn.org/stable/modules/generated/sklearn.datasets.load_diabetes.html\n"
      ]
    },
    {
      "cell_type": "markdown",
      "metadata": {
        "id": "E40i-GxmvTQA",
        "colab_type": "text"
      },
      "source": [
        "Nossos imports serão o pandas, o datasets, nosso modelo linear e train_test_split do sckitlearn bem como o matplotlib:"
      ]
    },
    {
      "cell_type": "code",
      "metadata": {
        "id": "mkI2RiVEbWeJ",
        "colab_type": "code",
        "colab": {}
      },
      "source": [
        "import pandas as pd\n",
        "from sklearn import datasets, linear_model\n",
        "from sklearn.model_selection import train_test_split\n",
        "from matplotlib import pyplot as plt"
      ],
      "execution_count": 0,
      "outputs": []
    },
    {
      "cell_type": "markdown",
      "metadata": {
        "id": "27n7WAvWvvni",
        "colab_type": "text"
      },
      "source": [
        "Vamos analisar rapidamente as bibliotecas que importamos:\n",
        "\n",
        "Pandas - para carregar o arquivo de dados como um dataframe do Pandas e analisar os dados;\n",
        "\n",
        "No Sklearn, importamos o módulo de conjuntos de dados (databases) para carregar uma base de amostra e o linear_model para executar uma regressão linear;\n",
        "\n",
        "No Sklearn, com a sub-biblioteca model_selection, importamos então train_test_split para que possamos dividir corretamente nossos dados em conjuntos de treinamento e teste;\n",
        "\n",
        "Do Matplotlib, importamos o pyplot para plotar gráficos dos dados."
      ]
    },
    {
      "cell_type": "code",
      "metadata": {
        "id": "ZR4AqD3qbYWZ",
        "colab_type": "code",
        "colab": {}
      },
      "source": [
        "# Carregando o dataset 'diabetes'\n",
        "\n",
        "# Declarando os nomes de nossas colunas\n",
        "columns = 'age sex bmi map tc ldl hdl tch ltg glu'.split()\n",
        "\n",
        "# Carregando o dataset 'diabetes'do sklearn\n",
        "diabetes = datasets.load_diabetes()\n",
        "\n",
        "# Carregando o dataset como um pandas dataframe\n",
        "df = pd.DataFrame(diabetes.data, columns=columns)\n",
        "\n",
        "#Definindo nossa variável 'alvo' (dependente) como y\n",
        "y = diabetes.target "
      ],
      "execution_count": 0,
      "outputs": []
    },
    {
      "cell_type": "code",
      "metadata": {
        "id": "icbaDJW3bgMj",
        "colab_type": "code",
        "outputId": "7bf2e45f-3054-4d66-bf8e-f73338758587",
        "colab": {
          "base_uri": "https://localhost:8080/",
          "height": 51
        }
      },
      "source": [
        "# Criando nossos sets de treinamento e teste (Lembre-se, comumente será em uma proporçao de 70/30 ou 80/20)\n",
        "X_train, X_test, y_train, y_test = train_test_split(df, y, test_size=0.2)\n",
        "print X_train.shape, y_train.shape\n",
        "print X_test.shape, y_test.shape"
      ],
      "execution_count": 0,
      "outputs": [
        {
          "output_type": "stream",
          "text": [
            "(353, 10) (353,)\n",
            "(89, 10) (89,)\n"
          ],
          "name": "stdout"
        }
      ]
    },
    {
      "cell_type": "markdown",
      "metadata": {
        "id": "Qb6OeiHQxLsJ",
        "colab_type": "text"
      },
      "source": [
        "Agora, ajustaremos o modelo aos dados de treinamento (model fitting):"
      ]
    },
    {
      "cell_type": "code",
      "metadata": {
        "id": "RjJSF5NXblu2",
        "colab_type": "code",
        "colab": {}
      },
      "source": [
        "# Model fitting\n",
        "lm = linear_model.LinearRegression()\n",
        "model = lm.fit(X_train, y_train)\n",
        "predictions = lm.predict(X_test)"
      ],
      "execution_count": 0,
      "outputs": []
    },
    {
      "cell_type": "markdown",
      "metadata": {
        "id": "Zj2V4riiyo3y",
        "colab_type": "text"
      },
      "source": [
        "Como você pode ver, estamos ajustando o modelo nos dados de treinamento e tentando prever os dados de teste. \n",
        "\n",
        "Vamos ver algumas das previsões:\n"
      ]
    },
    {
      "cell_type": "code",
      "metadata": {
        "id": "s3DkSFRkbp6d",
        "colab_type": "code",
        "outputId": "b92a2fc5-70b5-44d2-e590-fd6f43e56cdc",
        "colab": {
          "base_uri": "https://localhost:8080/",
          "height": 51
        }
      },
      "source": [
        "predictions[0:5]"
      ],
      "execution_count": 0,
      "outputs": [
        {
          "output_type": "execute_result",
          "data": {
            "text/plain": [
              "array([193.5557702 , 106.67662598, 209.03845597, 155.90237303,\n",
              "       116.89615785])"
            ]
          },
          "metadata": {
            "tags": []
          },
          "execution_count": 5
        }
      ]
    },
    {
      "cell_type": "markdown",
      "metadata": {
        "id": "h0mtNLRny3Qg",
        "colab_type": "text"
      },
      "source": [
        "Obs: como usamos [0: 5] após as previsões, mostra-se então apenas os cinco primeiros valores previstos. \n",
        "\n",
        "Remover o [0: 5] faria com que fossem imprimidos todos os valores previstos que nosso modelo criou.\n",
        "\n",
        "Agora vamos plotar nosso modelo de regressão linear:"
      ]
    },
    {
      "cell_type": "code",
      "metadata": {
        "id": "iVUOAEu5bul0",
        "colab_type": "code",
        "outputId": "bd3c96a6-e844-45c1-a08f-9fbc4f5f7f96",
        "colab": {
          "base_uri": "https://localhost:8080/",
          "height": 300
        }
      },
      "source": [
        "## Modelo de regressao linear\n",
        "plt.scatter(y_test, predictions)\n",
        "plt.xlabel('Valores Verdadeiros')\n",
        "plt.ylabel('Predicoes')"
      ],
      "execution_count": 0,
      "outputs": [
        {
          "output_type": "execute_result",
          "data": {
            "text/plain": [
              "Text(0,0.5,'Predicoes')"
            ]
          },
          "metadata": {
            "tags": []
          },
          "execution_count": 6
        },
        {
          "output_type": "display_data",
          "data": {
            "image/png": "[encoded data removed]",
            "text/plain": [
              "<Figure size 432x288 with 1 Axes>"
            ]
          },
          "metadata": {
            "tags": []
          }
        }
      ]
    },
    {
      "cell_type": "markdown",
      "metadata": {
        "id": "gUKdi517zl55",
        "colab_type": "text"
      },
      "source": [
        "Score de acurácia para nosso modelo:"
      ]
    },
    {
      "cell_type": "code",
      "metadata": {
        "id": "dVTdKdIRb3cL",
        "colab_type": "code",
        "outputId": "c9886b7b-c835-454c-8742-94635d6f9d11",
        "colab": {
          "base_uri": "https://localhost:8080/",
          "height": 34
        }
      },
      "source": [
        "print 'Score:', model.score(X_test, y_test)"
      ],
      "execution_count": 0,
      "outputs": [
        {
          "output_type": "stream",
          "text": [
            "Score: 0.4897549266580087\n"
          ],
          "name": "stdout"
        }
      ]
    },
    {
      "cell_type": "markdown",
      "metadata": {
        "id": "Qhf4tnhWzwJp",
        "colab_type": "text"
      },
      "source": [
        "## Exercício IV - Validação Cruzada, K-Pastas e Leave One Out"
      ]
    },
    {
      "cell_type": "markdown",
      "metadata": {
        "id": "sUQb0Sz9z5U0",
        "colab_type": "text"
      },
      "source": [
        "[Desafio 4] Como desafio, atentem para a utilização do mesmo exemplo mas dessa vez com a utilização de validação via validação cruzada via K-Pastas (K-Folds Cross Validation)  e, a posteriori, façam o mesmo exemplo dessa vez com validação via Método Leave One Out (como visto em aula).\n",
        "\n",
        "Referências:\n",
        "\n",
        "https://scikit-learn.org/stable/modules/generated/sklearn.model_selection.KFold.html\n",
        "\n",
        "https://scikit-learn.org/stable/modules/generated/sklearn.model_selection.LeaveOneOut.html"
      ]
    },
    {
      "cell_type": "code",
      "metadata": {
        "id": "wUY502_rcB7R",
        "colab_type": "code",
        "colab": {}
      },
      "source": [
        "# Imports necessários\n",
        "\n",
        "from sklearn.model_selection import cross_val_score, cross_val_predict\n",
        "from sklearn import metrics"
      ],
      "execution_count": 0,
      "outputs": []
    },
    {
      "cell_type": "code",
      "metadata": {
        "id": "rP7iujKvcOjY",
        "colab_type": "code",
        "outputId": "81400f2a-1228-41b1-aa82-0ea73e5de0bd",
        "colab": {
          "base_uri": "https://localhost:8080/",
          "height": 51
        }
      },
      "source": [
        "# Fazendo nossa validação cruzada em 8 k-pastas\n",
        "\n",
        "scores = cross_val_score(model, df, y, cv=8)\n",
        "print 'Scores com Validação Cruzada:', scores"
      ],
      "execution_count": 0,
      "outputs": [
        {
          "output_type": "stream",
          "text": [
            "Scores com Validação Cruzada: [0.50283713 0.18991026 0.56539865 0.36996563 0.60047052 0.33262653\n",
            " 0.41404403 0.68712879]\n"
          ],
          "name": "stdout"
        }
      ]
    },
    {
      "cell_type": "code",
      "metadata": {
        "id": "ria6Q_0DcjHV",
        "colab_type": "code",
        "outputId": "39245ca6-48d5-4892-929a-de29f53de488",
        "colab": {
          "base_uri": "https://localhost:8080/",
          "height": 286
        }
      },
      "source": [
        "# Fazendo predições com nossa validação cruzada\n",
        "\n",
        "predictions = cross_val_predict(model, df, y, cv=6)\n",
        "plt.scatter(y, predictions)"
      ],
      "execution_count": 0,
      "outputs": [
        {
          "output_type": "execute_result",
          "data": {
            "text/plain": [
              "<matplotlib.collections.PathCollection at 0x7f414cb42a10>"
            ]
          },
          "metadata": {
            "tags": []
          },
          "execution_count": 10
        },
        {
          "output_type": "display_data",
          "data": {
            "image/png": "[encoded data removed]",
            "text/plain": [
              "<Figure size 432x288 with 1 Axes>"
            ]
          },
          "metadata": {
            "tags": []
          }
        }
      ]
    },
    {
      "cell_type": "markdown",
      "metadata": {
        "id": "dPYdDCE03t-6",
        "colab_type": "text"
      },
      "source": [
        "Podemos ver que nosso plot é bem diferente do original, de nosso exemplo anterior. São oito vezes mais pontos que o gráfico original pois usamos cv = 8.\n",
        "\n",
        "Por fim, vamos verificar a pontuação R² do modelo. \n",
        "\n",
        "R² é um \"número que indica a proporção da variação na variável dependente que é previsível a partir da (s) variável (s) independente (s)\". \n",
        "\n",
        "Basicamente, quão preciso é o nosso modelo:\n"
      ]
    },
    {
      "cell_type": "code",
      "metadata": {
        "id": "PoIPN13_cni0",
        "colab_type": "code",
        "outputId": "9ccf63fb-7da1-4dfd-c56c-1ee876440081",
        "colab": {
          "base_uri": "https://localhost:8080/",
          "height": 34
        }
      },
      "source": [
        "accuracy = metrics.r2_score(y, predictions)\n",
        "print 'Acurácia via Predição Cruzada:', accuracy"
      ],
      "execution_count": 0,
      "outputs": [
        {
          "output_type": "stream",
          "text": [
            "Acurácia via Predição Cruzada: 0.4908065838640776\n"
          ],
          "name": "stdout"
        }
      ]
    },
    {
      "cell_type": "markdown",
      "metadata": {
        "id": "K9POWIPR35rf",
        "colab_type": "text"
      },
      "source": [
        "Para mais informações sobre outros scores/métricas favor consultar:\n",
        "\n",
        "Ref. https://towardsdatascience.com/machine-learning-cheat-sheet-model-evaluation-and-validation-b67565df6075"
      ]
    },
    {
      "cell_type": "markdown",
      "metadata": {
        "id": "rYQsxxJCVMDS",
        "colab_type": "text"
      },
      "source": [
        "### Resposta do Desafio 4\n",
        "### KFold"
      ]
    },
    {
      "cell_type": "code",
      "metadata": {
        "id": "b0epMfZ7Uj9G",
        "colab_type": "code",
        "colab": {}
      },
      "source": [
        "from sklearn.model_selection import KFold"
      ],
      "execution_count": 0,
      "outputs": []
    },
    {
      "cell_type": "code",
      "metadata": {
        "id": "cOqt95BEVZGn",
        "colab_type": "code",
        "colab": {}
      },
      "source": [
        "kf = KFold(n_splits=4, random_state=42, shuffle=False)\n",
        "lm = linear_model.LinearRegression()"
      ],
      "execution_count": 0,
      "outputs": []
    },
    {
      "cell_type": "code",
      "metadata": {
        "id": "btPy5xHJWLto",
        "colab_type": "code",
        "outputId": "9fd63470-6e60-40eb-c791-a3f8d6810db8",
        "colab": {
          "base_uri": "https://localhost:8080/",
          "height": 85
        }
      },
      "source": [
        "fold = 1\n",
        "for train_index, test_index in kf.split(df, y):\n",
        "   x_train, x_test, y_train, y_test = df.loc[train_index], df.loc[test_index], y[train_index], y[test_index]\n",
        "   model = lm.fit(x_train, y_train)\n",
        "   predictions = lm.predict(x_test)\n",
        "\n",
        "   print(f\"Fold {fold} score: {model.score(x_test, y_test)} \")\n",
        "   fold += 1\n",
        "\n",
        "fold = 0\n",
        "\n"
      ],
      "execution_count": 0,
      "outputs": [
        {
          "output_type": "stream",
          "text": [
            "Fold 1 score: 0.37459087635730115 \n",
            "Fold 2 score: 0.49678358851330806 \n",
            "Fold 3 score: 0.5095008563274803 \n",
            "Fold 4 score: 0.5575584676050649 \n"
          ],
          "name": "stdout"
        }
      ]
    },
    {
      "cell_type": "markdown",
      "metadata": {
        "id": "v1gFGZe2eAn4",
        "colab_type": "text"
      },
      "source": [
        "### Leave One Out"
      ]
    },
    {
      "cell_type": "code",
      "metadata": {
        "id": "0Xvlh6eoeDmG",
        "colab_type": "code",
        "colab": {}
      },
      "source": [
        "from sklearn.model_selection import LeaveOneOut"
      ],
      "execution_count": 0,
      "outputs": []
    },
    {
      "cell_type": "code",
      "metadata": {
        "id": "A5gZrkcYeMDo",
        "colab_type": "code",
        "colab": {}
      },
      "source": [
        "lm = linear_model.LinearRegression()\n",
        "\n",
        "loo = LeaveOneOut()"
      ],
      "execution_count": 0,
      "outputs": []
    },
    {
      "cell_type": "code",
      "metadata": {
        "id": "zGIoKt5seUU3",
        "colab_type": "code",
        "colab": {}
      },
      "source": [
        "fold = 1\n",
        "y_predictions = []\n",
        "for train_index, test_index in loo.split(df, y):\n",
        "  #print(\"TRAIN:\", train_index, \"TEST:\", test_index)\n",
        "  x_train, x_test, y_train, y_test = df.loc[train_index], df.loc[test_index], y[train_index], y[test_index]\n",
        "  model = lm.fit(x_train, y_train)\n",
        "  predictions = lm.predict(x_test)\n",
        "  y_predictions.append(predictions[0])\n",
        "\n",
        "fold = 0"
      ],
      "execution_count": 0,
      "outputs": []
    },
    {
      "cell_type": "code",
      "metadata": {
        "id": "J5zwPG17pv2_",
        "colab_type": "code",
        "outputId": "4a7f8c31-cda7-46b2-b258-6e3c22c2face",
        "colab": {
          "base_uri": "https://localhost:8080/",
          "height": 1000
        }
      },
      "source": [
        "len(y_predictions)\n",
        "len(y)\n",
        "model.score(y_predictions, y)"
      ],
      "execution_count": 0,
      "outputs": [
        {
          "output_type": "error",
          "ename": "ValueError",
          "evalue": "ignored",
          "traceback": [
            "\u001b[0;31m---------------------------------------------------------------------------\u001b[0m",
            "\u001b[0;31mValueError\u001b[0m                                Traceback (most recent call last)",
            "\u001b[0;32m<ipython-input-15-b31becc23c0f>\u001b[0m in \u001b[0;36m<module>\u001b[0;34m()\u001b[0m\n\u001b[1;32m      1\u001b[0m \u001b[0mlen\u001b[0m\u001b[0;34m(\u001b[0m\u001b[0my_predictions\u001b[0m\u001b[0;34m)\u001b[0m\u001b[0;34m\u001b[0m\u001b[0;34m\u001b[0m\u001b[0m\n\u001b[1;32m      2\u001b[0m \u001b[0mlen\u001b[0m\u001b[0;34m(\u001b[0m\u001b[0my\u001b[0m\u001b[0;34m)\u001b[0m\u001b[0;34m\u001b[0m\u001b[0;34m\u001b[0m\u001b[0m\n\u001b[0;32m----> 3\u001b[0;31m \u001b[0mmodel\u001b[0m\u001b[0;34m.\u001b[0m\u001b[0mscore\u001b[0m\u001b[0;34m(\u001b[0m\u001b[0my_predictions\u001b[0m\u001b[0;34m,\u001b[0m \u001b[0my\u001b[0m\u001b[0;34m)\u001b[0m\u001b[0;34m\u001b[0m\u001b[0;34m\u001b[0m\u001b[0m\n\u001b[0m",
            "\u001b[0;32m/usr/local/lib/python3.6/dist-packages/sklearn/base.py\u001b[0m in \u001b[0;36mscore\u001b[0;34m(self, X, y, sample_weight)\u001b[0m\n\u001b[1;32m    406\u001b[0m         \u001b[0;32mfrom\u001b[0m \u001b[0;34m.\u001b[0m\u001b[0mmetrics\u001b[0m \u001b[0;32mimport\u001b[0m \u001b[0mr2_score\u001b[0m\u001b[0;34m\u001b[0m\u001b[0;34m\u001b[0m\u001b[0m\n\u001b[1;32m    407\u001b[0m         \u001b[0;32mfrom\u001b[0m \u001b[0;34m.\u001b[0m\u001b[0mmetrics\u001b[0m\u001b[0;34m.\u001b[0m\u001b[0mregression\u001b[0m \u001b[0;32mimport\u001b[0m \u001b[0m_check_reg_targets\u001b[0m\u001b[0;34m\u001b[0m\u001b[0;34m\u001b[0m\u001b[0m\n\u001b[0;32m--> 408\u001b[0;31m         \u001b[0my_pred\u001b[0m \u001b[0;34m=\u001b[0m \u001b[0mself\u001b[0m\u001b[0;34m.\u001b[0m\u001b[0mpredict\u001b[0m\u001b[0;34m(\u001b[0m\u001b[0mX\u001b[0m\u001b[0;34m)\u001b[0m\u001b[0;34m\u001b[0m\u001b[0;34m\u001b[0m\u001b[0m\n\u001b[0m\u001b[1;32m    409\u001b[0m         \u001b[0;31m# XXX: Remove the check in 0.23\u001b[0m\u001b[0;34m\u001b[0m\u001b[0;34m\u001b[0m\u001b[0;34m\u001b[0m\u001b[0m\n\u001b[1;32m    410\u001b[0m         \u001b[0my_type\u001b[0m\u001b[0;34m,\u001b[0m \u001b[0m_\u001b[0m\u001b[0;34m,\u001b[0m \u001b[0m_\u001b[0m\u001b[0;34m,\u001b[0m \u001b[0m_\u001b[0m \u001b[0;34m=\u001b[0m \u001b[0m_check_reg_targets\u001b[0m\u001b[0;34m(\u001b[0m\u001b[0my\u001b[0m\u001b[0;34m,\u001b[0m \u001b[0my_pred\u001b[0m\u001b[0;34m,\u001b[0m \u001b[0;32mNone\u001b[0m\u001b[0;34m)\u001b[0m\u001b[0;34m\u001b[0m\u001b[0;34m\u001b[0m\u001b[0m\n",
            "\u001b[0;32m/usr/local/lib/python3.6/dist-packages/sklearn/linear_model/base.py\u001b[0m in \u001b[0;36mpredict\u001b[0;34m(self, X)\u001b[0m\n\u001b[1;32m    219\u001b[0m             \u001b[0mReturns\u001b[0m \u001b[0mpredicted\u001b[0m \u001b[0mvalues\u001b[0m\u001b[0;34m.\u001b[0m\u001b[0;34m\u001b[0m\u001b[0;34m\u001b[0m\u001b[0m\n\u001b[1;32m    220\u001b[0m         \"\"\"\n\u001b[0;32m--> 221\u001b[0;31m         \u001b[0;32mreturn\u001b[0m \u001b[0mself\u001b[0m\u001b[0;34m.\u001b[0m\u001b[0m_decision_function\u001b[0m\u001b[0;34m(\u001b[0m\u001b[0mX\u001b[0m\u001b[0;34m)\u001b[0m\u001b[0;34m\u001b[0m\u001b[0;34m\u001b[0m\u001b[0m\n\u001b[0m\u001b[1;32m    222\u001b[0m \u001b[0;34m\u001b[0m\u001b[0m\n\u001b[1;32m    223\u001b[0m     \u001b[0m_preprocess_data\u001b[0m \u001b[0;34m=\u001b[0m \u001b[0mstaticmethod\u001b[0m\u001b[0;34m(\u001b[0m\u001b[0m_preprocess_data\u001b[0m\u001b[0;34m)\u001b[0m\u001b[0;34m\u001b[0m\u001b[0;34m\u001b[0m\u001b[0m\n",
            "\u001b[0;32m/usr/local/lib/python3.6/dist-packages/sklearn/linear_model/base.py\u001b[0m in \u001b[0;36m_decision_function\u001b[0;34m(self, X)\u001b[0m\n\u001b[1;32m    202\u001b[0m         \u001b[0mcheck_is_fitted\u001b[0m\u001b[0;34m(\u001b[0m\u001b[0mself\u001b[0m\u001b[0;34m,\u001b[0m \u001b[0;34m\"coef_\"\u001b[0m\u001b[0;34m)\u001b[0m\u001b[0;34m\u001b[0m\u001b[0;34m\u001b[0m\u001b[0m\n\u001b[1;32m    203\u001b[0m \u001b[0;34m\u001b[0m\u001b[0m\n\u001b[0;32m--> 204\u001b[0;31m         \u001b[0mX\u001b[0m \u001b[0;34m=\u001b[0m \u001b[0mcheck_array\u001b[0m\u001b[0;34m(\u001b[0m\u001b[0mX\u001b[0m\u001b[0;34m,\u001b[0m \u001b[0maccept_sparse\u001b[0m\u001b[0;34m=\u001b[0m\u001b[0;34m[\u001b[0m\u001b[0;34m'csr'\u001b[0m\u001b[0;34m,\u001b[0m \u001b[0;34m'csc'\u001b[0m\u001b[0;34m,\u001b[0m \u001b[0;34m'coo'\u001b[0m\u001b[0;34m]\u001b[0m\u001b[0;34m)\u001b[0m\u001b[0;34m\u001b[0m\u001b[0;34m\u001b[0m\u001b[0m\n\u001b[0m\u001b[1;32m    205\u001b[0m         return safe_sparse_dot(X, self.coef_.T,\n\u001b[1;32m    206\u001b[0m                                dense_output=True) + self.intercept_\n",
            "\u001b[0;32m/usr/local/lib/python3.6/dist-packages/sklearn/utils/validation.py\u001b[0m in \u001b[0;36mcheck_array\u001b[0;34m(array, accept_sparse, accept_large_sparse, dtype, order, copy, force_all_finite, ensure_2d, allow_nd, ensure_min_samples, ensure_min_features, warn_on_dtype, estimator)\u001b[0m\n\u001b[1;32m    519\u001b[0m                     \u001b[0;34m\"Reshape your data either using array.reshape(-1, 1) if \"\u001b[0m\u001b[0;34m\u001b[0m\u001b[0;34m\u001b[0m\u001b[0m\n\u001b[1;32m    520\u001b[0m                     \u001b[0;34m\"your data has a single feature or array.reshape(1, -1) \"\u001b[0m\u001b[0;34m\u001b[0m\u001b[0;34m\u001b[0m\u001b[0m\n\u001b[0;32m--> 521\u001b[0;31m                     \"if it contains a single sample.\".format(array))\n\u001b[0m\u001b[1;32m    522\u001b[0m \u001b[0;34m\u001b[0m\u001b[0m\n\u001b[1;32m    523\u001b[0m         \u001b[0;31m# in the future np.flexible dtypes will be handled like object dtypes\u001b[0m\u001b[0;34m\u001b[0m\u001b[0;34m\u001b[0m\u001b[0;34m\u001b[0m\u001b[0m\n",
            "\u001b[0;31mValueError\u001b[0m: Expected 2D array, got 1D array instead:\narray=[207.1069823   67.91403852 177.74938514 166.15184965 128.37412551\n 106.54540868  72.82440758 120.75418143 159.89707587 211.19691693\n  96.91908414  96.72069618 114.58520911 164.45536253 102.76634006\n 177.49968715 212.79802837 183.45529397 148.47917886 123.60796569\n 121.24046797  86.68099535 114.0927371  253.38632815 165.20595903\n 146.72735205  95.99984632 181.01020338 129.0019576  180.55530956\n 159.14410011  69.62569494 255.6750167  113.97583111  78.5908564\n  86.87888639 206.80149224 156.08551859 240.58204899 137.93897588\n 154.72334903  74.68377807 146.86048725  77.24799339 220.17311026\n 126.20993723 141.8101569  108.62698275  73.10123996 190.77273567\n 157.97345255 168.77877179 135.04107823 158.96297576 138.43956021\n  71.3734053  210.23545077  80.90665055  98.23198474 133.89179651\n 115.04503898 181.84002128  61.38410964  98.06796355 114.73391005\n 190.7018913  148.96215879 124.59277232 114.26181373 120.87419935\n  74.53033554 235.59043428 139.57886631 124.64807039 152.41216121\n 128.82691889 191.92164803  74.10276955 163.41757274  90.46598396\n 175.32314564 123.53388214  63.57394414 151.25496211  53.39942903\n 166.78289579  42.17613793 153.53213503  81.8304021  106.84396658\n  79.58595672 187.67139776 196.53945989  60.48484803 107.79682158\n 124.0807059  208.42573547 212.48148579 124.07071551 140.53325191\n 168.73935448 107.03411185 147.01264241 157.05022683 154.19717818\n 116.99133697  71.77727977 156.06194756 230.10815611 145.28265237\n  33.78136254 122.61642523 151.38222489 206.58812477 292.49915789\n 187.99106982 213.228729   232.97864883 165.12199833 150.39972543\n 156.03655298 200.85070768 219.93796228 181.83033201 169.62382495\n 188.56849744  56.32137216 108.53432416  92.38533552 209.35730634\n 244.37605543  68.02715167 113.12213375  68.1602557  142.51177199\n 238.55001179  57.82717758 234.43539975 252.70170542 252.75983253\n 156.09498077 224.82302127 169.15666436 118.75006438 178.62625183\n 239.24823639 190.49614614 230.91940798 114.59262851 180.02856683\n 207.7283843  145.30455236 197.20158357 122.28487089 149.83457028\n 199.31889553 147.15936325 124.51224862  85.09779901 236.06361379\n  82.65884322 231.84920262 143.9253738  198.43592235 145.24416245\n  77.44508367  59.07887762 263.77703761 223.77253981 228.45804297\n  46.58218727  88.38267649 220.30189677  97.16135546 164.89889678\n 119.77485601 157.05647804 223.04067941  99.86299682 166.05880186\n 180.3384903   90.36415028 172.47044573 157.89542979 200.51728314\n 188.62190158 199.77912398  64.66524649 154.8398583  116.67278234\n 194.28234455 126.79077875  91.20750955 141.11444004 157.35257977\n 170.13424106  99.08594737 190.99942163 142.53533813 180.07902696\n  93.85409382  69.61474556 162.70002582 197.73217579 175.54162816\n 231.15726406 160.37825418 212.46894418 224.75864858 175.12728862\n 123.89745013 177.41213176 153.76401869  99.31709356 100.80078067\n 262.27466845 222.55513471 219.59125459 131.89443281 144.57414192\n  52.13003086 142.61526334 151.65643868 124.7780868   77.25649734\n 230.65506938  78.95070535 105.14405366 117.5609172   99.72737835\n 163.28483706 159.39895564 157.25607229 144.45800213 231.32086455\n 177.86178748 188.87671416  65.24615004 188.47233373 177.99186623\n 234.30760751 118.31740605  86.0737986  101.54310395 139.23018357\n 101.25801614 122.02119723  83.94397921 233.71384875 245.63363008\n 262.20031542 276.10637417 182.69970241 204.10141341 250.72642678\n 117.99628033 264.27332786 105.70318158 116.90759049 142.46839412\n  59.53201665 131.90860747 262.27548688  43.3160327  122.73715953\n 131.99387279  34.4007042  139.0588409  243.8793756   90.06988038\n 191.87713024 164.75748267 146.88737617 189.89370965 177.91014552\n 159.28640258 185.81909044 117.64516288 111.74011034 116.4955101\n 164.66123612  97.93883848 137.33866596  83.01331305 160.03448795\n 201.11648894  81.76366315 144.39479913  79.02310299 195.25652558\n 219.05809159 202.09775719  93.02810367 178.39664785  82.51432231\n 154.76972292  76.5416191   98.94023137 106.37524613 124.23269991\n 216.9161001  126.95491913 206.84260959 230.41080189 117.55149162\n 136.01601475 127.4599818  148.02931798  87.6539314  138.8643763\n 205.26403641 172.32492804 122.69444059 214.66934802 175.16376406\n 110.24292183 198.05383613 172.78076298 163.6701956  193.38231742\n 192.81638701 287.65776342 284.76451581 212.92294659 209.03086056\n 216.98740695 157.38374855 223.66979214 191.39001764 103.02775587\n 177.392823   109.61408613 291.49918313 182.84586515  79.45948939\n  86.216161   246.32283779 175.78425494 120.34156322 147.39004377\n 168.68812305 182.07297357 163.1155846  158.36871687 142.98113188\n 125.04343433 178.58270139 104.92315772 131.89642762  95.32803764\n 250.19442303  86.53294631  61.09886577 163.20461251 189.56461718\n 135.01786059  94.26106255 201.96224088  51.82558935 173.35915075\n 196.08073371 116.45061557 233.27972822 166.93803603 158.2053212\n 161.07892141 254.90262012 257.92288497 199.23056539 184.30769612\n  58.53315728 194.20836927 111.21252083 141.83318593 128.52911899\n 179.35305886 213.86376563 168.07836486 163.35427785 138.7837012\n 177.28693509  73.91575044 252.82983585 114.42010922 112.92958292\n 138.85602953 110.33460021  86.27741899 164.07900634  75.90847153\n 253.21979885  53.26390798  98.02497585 101.03402869 257.09062682\n 169.12023161  62.55022699 181.94777053 169.42569631 188.59316972\n 187.63888355  86.99019247 147.67886798 250.79320684 197.85707072\n 283.78799979  50.31635121 173.33348622 204.65968363 173.99901646\n 156.74956871 150.89570281 232.23017601 121.69039468 165.42727037\n 172.6508526  225.78491376 152.11868924  99.47962814  81.11964577\n 139.99486962 191.69157543 197.74538291 156.0254128  172.40845443\n 111.10408793 163.52414176 130.92132662 256.70913478 100.79488076\n 114.68393351 123.55287762 219.26320266  60.62546841 132.33865726\n 120.03522845  52.68343294 193.22245344 100.97087721 121.07634194\n 211.74563342  53.18450591].\nReshape your data either using array.reshape(-1, 1) if your data has a single feature or array.reshape(1, -1) if it contains a single sample."
          ]
        }
      ]
    }
  ]
}